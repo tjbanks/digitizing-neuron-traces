{
 "cells": [
  {
   "cell_type": "markdown",
   "id": "38483394",
   "metadata": {},
   "source": [
    "# Digitizing Neuron Traces"
   ]
  },
  {
   "cell_type": "markdown",
   "id": "414f096f",
   "metadata": {},
   "source": [
    "It occurs often that the only information we have on a neuron's behavior is in the form of a graphic and want to apply the underlying data to our own interest and designs.\n",
    "\n",
    "### How do we extract the data?\n",
    "\n",
    "This extraction of data from an image is called digitization and is the conversion of a graphical figure into a quantized numerical format for analysis and manipulation."
   ]
  },
  {
   "cell_type": "markdown",
   "id": "fdb47b8b",
   "metadata": {},
   "source": [
    "An online, easy to use tool called **WebPlotDigitizer** makes this process simple. It can be found here:  [https://apps.automeris.io/wpd/](https://apps.automeris.io/wpd/)\n",
    "\n",
    "Or ran locally using the GitHub source: https://github.com/ankitrohatgi/WebPlotDigitizer"
   ]
  },
  {
   "attachments": {},
   "cell_type": "markdown",
   "id": "d2112f81",
   "metadata": {},
   "source": [
    "### WebPlotDigitizer \n",
    "\n",
    "Most of the inner workings of WebPlotDigitizer are hidden and you only need to change a few of 'point and click' parameters on the interface. The steps for digitizing your Neuron trace are as follows:\n",
    "\n",
    "#### 1. Upload your image to the [WebPlotDigitizer interface](https://apps.automeris.io/wpd/).\n",
    "\n",
    "Select `File` -> `Load Image(s)` from the upper-left-hand corner\n",
    "\n",
    "In the resulting popup window, click `Browse` and select your image file\n",
    "\n",
    "Click `Load`\n",
    "\n",
    "![image.png](images/image1.png)\n",
    "\n",
    "#### 2. Enter plot specifications\n",
    "\n",
    "Select `2D (X-Y) Plot` and click `Align Axes`\n",
    "<img src=\"images/image2.png\" width=\"400\"/>\n",
    "\n",
    "You will need to \"Click four known points on the axes in the order shown in red. Two on the X axis (X1, X2) and two on the Y axis (Y1, Y2).\"\n",
    "Click `Proceed`\n",
    "<img src=\"images/image3.png\" width=\"400\"/>\n",
    "\n",
    "\n",
    "Select 4 locations where you know the data well and click `Complete!` \n",
    "![image.png](images/image4.png)\n",
    "\n",
    "In this plot we selected `50ms` to `250ms` on the `x-axis` and `-50` to `50` on the `y-axis`. Click `Ok`.\n",
    "<img src=\"images/image5.png\" width=\"500\"/>"
   ]
  },
  {
   "cell_type": "markdown",
   "id": "d386d0de",
   "metadata": {},
   "source": [
    "#### 3. Fit your curve\n",
    "\n",
    "On the right-hand side, you'll want to mask your figure by boxing only the data points. \n",
    "\n",
    "Select `Box` under `Automatic Extraction` then draw a box around your data\n",
    "\n",
    "![image.png](images/image6.png)\n",
    "\n",
    "\n",
    "Next, select your `Foreground Color` by clicking on the blue box next to `Color`\n",
    "<img src=\"images/image7.png\" width=\"700\"/>\n",
    "\n",
    "Then pick a point on your data line. Then click `Done`.\n",
    "<img src=\"images/image8.png\" width=\"400\"/>\n",
    "\n",
    "\n",
    "Finally, change your averaging window `delta pixels`. In this case we chose `3`.\n",
    "\n",
    "Then click `Run`\n",
    "![image.png](images/image9.png)"
   ]
  },
  {
   "cell_type": "markdown",
   "id": "d1c3b170",
   "metadata": {},
   "source": [
    "#### 4. Export your data\n",
    "\n",
    "Finally, on the left-hand side, click `View Data` then `Download .CSV`\n",
    "![image.png](images/image10.png)"
   ]
  },
  {
   "cell_type": "markdown",
   "id": "bed8fbfd",
   "metadata": {},
   "source": [
    "### Resulting dataset"
   ]
  },
  {
   "cell_type": "code",
   "execution_count": 4,
   "id": "30dba359",
   "metadata": {},
   "outputs": [
    {
     "name": "stdout",
     "output_type": "stream",
     "text": [
      "     -11.701824075976532   -71.81818062231483\n",
      "0               0.611830           -71.704657\n",
      "1              11.447846           -71.534371\n",
      "2              21.791316           -64.382381\n",
      "3              20.313677           -67.674567\n",
      "4              19.821131           -70.853230\n",
      "..                   ...                  ...\n",
      "892          1139.871128           -52.121827\n",
      "893          1143.318951           -53.540872\n",
      "894          1152.818056           -51.229855\n",
      "895          1164.301418           -50.782248\n",
      "896          1172.871721           -50.816305\n",
      "\n",
      "[897 rows x 2 columns]\n"
     ]
    }
   ],
   "source": [
    "import pandas as pd\n",
    "\n",
    "dataset = pd.read_csv('images/dataset.csv')\n",
    "print(dataset)"
   ]
  },
  {
   "cell_type": "code",
   "execution_count": null,
   "id": "2f80be84",
   "metadata": {},
   "outputs": [],
   "source": []
  }
 ],
 "metadata": {
  "kernelspec": {
   "display_name": "Python 3 (ipykernel)",
   "language": "python",
   "name": "python3"
  },
  "language_info": {
   "codemirror_mode": {
    "name": "ipython",
    "version": 3
   },
   "file_extension": ".py",
   "mimetype": "text/x-python",
   "name": "python",
   "nbconvert_exporter": "python",
   "pygments_lexer": "ipython3",
   "version": "3.9.7"
  }
 },
 "nbformat": 4,
 "nbformat_minor": 5
}
